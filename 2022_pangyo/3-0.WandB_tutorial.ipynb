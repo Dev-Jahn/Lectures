{
 "cells": [
  {
   "cell_type": "markdown",
   "id": "60351786-49a4-48e8-88cc-3a3ac5c3caa3",
   "metadata": {
    "tags": []
   },
   "source": [
    "# W&B (Weights and Biases) Tutorial [(Link)](https://wandb.ai/site)\n",
    "* Author: [안재한](https://github.com/Dev-Jahn)"
   ]
  },
  {
   "cell_type": "markdown",
   "id": "104d7b2b-bc49-44dc-a50e-741569291ce1",
   "metadata": {
    "jupyter": {
     "source_hidden": true
    },
    "tags": []
   },
   "source": [
    "[<img src=\"https://drive.google.com/uc?export=view&id=12X8w2gmCa2N5i9cJ5mIJaNVSJpvcFJXH\"/>](https://www.youtube.com/watch?v=krWjJcW80_A)\n",
    "## 계정 생성하기\n",
    "***\n",
    "* Github\n",
    "* Google\n",
    "* MS\n",
    "* 자체 계정\n",
    "\n",
    "## 기능들\n",
    "***\n",
    "<img src=\"https://drive.google.com/uc?export=view&id=1Vwp_INLmNsi0Blxv7oBjIeRlC0E78EIv\"/>\n",
    "* 다양한 형태의 학습 트래킹 (성능지표, 이미지, 자연어, 오디오, 비디오, 3D 모델...etc)\n",
    "* 리포트 생성\n",
    "* 데이터셋, 모델 버전 관리\n",
    "* 테이블을 이용한 데이터 시각화\n",
    "* 하이퍼파라미터 튜닝\n",
    "* 모델 저장 및 배포\n",
    "\n",
    "## Documentation\n",
    "***\n",
    "근래들어 활발하게 기능이 개발되는 중이라 문서화가 잘 되어 있는 편\n",
    "* [공식 Documentation](https://docs.wandb.ai/?_gl=1*1ffsiro*_ga*MTMwMjc3MzA0LjE2NzIzMzQ3NDc.*_ga_JH1SJHJQXJ*MTY3MjMzNDc0Ny4xLjEuMTY3MjMzNDg3Mi40NS4wLjA.)\n",
    "    * [실험 추적 기능(로깅)](https://docs.wandb.ai/guides/track)\n",
    "    * [하이퍼파라미터 튜닝](https://docs.wandb.ai/guides/sweeps)\n",
    "    * [데이터, 모델 버전 관리](https://docs.wandb.ai/guides/data-and-model-versioning)\n",
    "    * [모델 라이프사이클 관리](https://docs.wandb.ai/guides/models)\n",
    "    * [데이터 시각화](https://docs.wandb.ai/guides/data-vis)\n",
    "    * [리포트 생성하기](https://docs.wandb.ai/guides/reports)\n",
    "    * [Pytorch, Keras, Hugging Face 등과 연동하기](https://docs.wandb.ai/guides/integrations)\n",
    "* [파이썬 레퍼런스(모듈, 함수 명세)](https://docs.wandb.ai/ref/python)\n",
    "    \n",
    "## Forum\n",
    "***\n",
    "모르는 게 있으면 [Forum](https://community.wandb.ai/?_gl=1*kvghcf*_ga*MTMwMjc3MzA0LjE2NzIzMzQ3NDc.*_ga_JH1SJHJQXJ*MTY3MjMzNDc0Ny4xLjEuMTY3MjMzNDk0Ny41OC4wLjA.)에 질문해도 됩니다"
   ]
  },
  {
   "cell_type": "markdown",
   "id": "41aba521-d825-4e87-8a08-aa2d2ed616b0",
   "metadata": {},
   "source": [
    "## 기본 구조\n",
    "***\n",
    "<img src=\"https://drive.google.com/uc?export=view&id=1eSuLm2IGUub2QyMwapabyejDfNFjvSz7\"/>\n",
    "\n",
    "프로젝트를 생성하고 로깅을 시작하면, 각 프로젝트 내에 run이라는 형태로 일련의 기록들이 저장됨"
   ]
  },
  {
   "cell_type": "markdown",
   "id": "4f20a444-cbc3-412c-b728-c6c8a55671f4",
   "metadata": {},
   "source": [
    "## 시작하기\n",
    "***\n",
    "[[링크]](https://wandb.ai/quickstart) 에서 `Your API key` 클릭하여 복사해두기"
   ]
  },
  {
   "cell_type": "code",
   "execution_count": 3,
   "id": "c3559b37-8535-4e30-8863-a8f578819aec",
   "metadata": {
    "collapsed": true,
    "jupyter": {
     "outputs_hidden": true
    },
    "tags": []
   },
   "outputs": [
    {
     "name": "stdout",
     "output_type": "stream",
     "text": [
      "Looking in indexes: https://pypi.org/simple, https://pypi.ngc.nvidia.com\n",
      "Requirement already satisfied: wandb in /home/jahn/anaconda3/lib/python3.9/site-packages (0.12.10)\n",
      "Requirement already satisfied: protobuf>=3.12.0 in /home/jahn/anaconda3/lib/python3.9/site-packages (from wandb) (3.19.1)\n",
      "Requirement already satisfied: Click!=8.0.0,>=7.0 in /home/jahn/anaconda3/lib/python3.9/site-packages (from wandb) (8.0.3)\n",
      "Requirement already satisfied: shortuuid>=0.5.0 in /home/jahn/anaconda3/lib/python3.9/site-packages (from wandb) (1.0.8)\n",
      "Requirement already satisfied: requests<3,>=2.0.0 in /home/jahn/anaconda3/lib/python3.9/site-packages (from wandb) (2.26.0)\n",
      "Requirement already satisfied: promise<3,>=2.0 in /home/jahn/anaconda3/lib/python3.9/site-packages (from wandb) (2.3)\n",
      "Requirement already satisfied: docker-pycreds>=0.4.0 in /home/jahn/anaconda3/lib/python3.9/site-packages (from wandb) (0.4.0)\n",
      "Requirement already satisfied: GitPython>=1.0.0 in /home/jahn/anaconda3/lib/python3.9/site-packages (from wandb) (3.1.27)\n",
      "Requirement already satisfied: sentry-sdk>=1.0.0 in /home/jahn/anaconda3/lib/python3.9/site-packages (from wandb) (1.5.6)\n",
      "Requirement already satisfied: PyYAML in /home/jahn/anaconda3/lib/python3.9/site-packages (from wandb) (6.0)\n",
      "Requirement already satisfied: python-dateutil>=2.6.1 in /home/jahn/anaconda3/lib/python3.9/site-packages (from wandb) (2.8.2)\n",
      "Requirement already satisfied: six>=1.13.0 in /home/jahn/anaconda3/lib/python3.9/site-packages (from wandb) (1.16.0)\n",
      "Requirement already satisfied: psutil>=5.0.0 in /home/jahn/anaconda3/lib/python3.9/site-packages (from wandb) (5.8.0)\n",
      "Requirement already satisfied: pathtools in /home/jahn/anaconda3/lib/python3.9/site-packages (from wandb) (0.1.2)\n",
      "Requirement already satisfied: yaspin>=1.0.0 in /home/jahn/anaconda3/lib/python3.9/site-packages (from wandb) (2.1.0)\n",
      "Requirement already satisfied: gitdb<5,>=4.0.1 in /home/jahn/anaconda3/lib/python3.9/site-packages (from GitPython>=1.0.0->wandb) (4.0.9)\n",
      "Requirement already satisfied: charset-normalizer~=2.0.0 in /home/jahn/anaconda3/lib/python3.9/site-packages (from requests<3,>=2.0.0->wandb) (2.0.4)\n",
      "Requirement already satisfied: certifi>=2017.4.17 in /home/jahn/anaconda3/lib/python3.9/site-packages (from requests<3,>=2.0.0->wandb) (2021.10.8)\n",
      "Requirement already satisfied: urllib3<1.27,>=1.21.1 in /home/jahn/anaconda3/lib/python3.9/site-packages (from requests<3,>=2.0.0->wandb) (1.26.7)\n",
      "Requirement already satisfied: idna<4,>=2.5 in /home/jahn/anaconda3/lib/python3.9/site-packages (from requests<3,>=2.0.0->wandb) (3.2)\n",
      "Requirement already satisfied: termcolor<2.0.0,>=1.1.0 in /home/jahn/anaconda3/lib/python3.9/site-packages (from yaspin>=1.0.0->wandb) (1.1.0)\n",
      "Requirement already satisfied: smmap<6,>=3.0.1 in /home/jahn/anaconda3/lib/python3.9/site-packages (from gitdb<5,>=4.0.1->GitPython>=1.0.0->wandb) (5.0.0)\n",
      "^C\n",
      "\n",
      "Aborted!\n"
     ]
    }
   ],
   "source": [
    "!pip install wandb\n",
    "!wandb login\n",
    "# 이후 방금 복사한 key입력"
   ]
  },
  {
   "cell_type": "markdown",
   "id": "0ad60936-52d0-42a2-873f-59c92c282c08",
   "metadata": {},
   "source": [
    "`로그인에 대한 정보는 컴퓨터에 파일로 기록되므로 한번 로그인해두면 같은 기기에서는 다시 할 필요 없습니다`"
   ]
  },
  {
   "cell_type": "code",
   "execution_count": null,
   "id": "d73a42ad-8b44-4bc5-9903-28c4028d6260",
   "metadata": {},
   "outputs": [],
   "source": [
    "import wandb\n",
    "\n",
    "# start a new wandb run to track this script\n",
    "wandb.init(\n",
    "    # set the wandb project where this run will be logged\n",
    "    project=\"my-awesome-project\",\n",
    "    # track hyperparameters and run metadata\n",
    "    config={\n",
    "    \"learning_rate\": 0.02,\n",
    "    \"architecture\": \"CNN\",\n",
    "    \"dataset\": \"CIFAR-10\",\n",
    "    \"epochs\": 10,\n",
    "    }\n",
    ")\n",
    "\n",
    "# simulate training\n",
    "epochs = 10\n",
    "offset = random.random() / 5\n",
    "for epoch in range(2, epochs):\n",
    "    acc = epoch*10\n",
    "    loss = 1/epoch\n",
    "    # log metrics to wandb\n",
    "    wandb.log({\"acc\": acc, \"loss\": loss})\n",
    "    \n",
    "# [optional] finish the wandb run, necessary in notebooks\n",
    "wandb.finish()"
   ]
  },
  {
   "cell_type": "markdown",
   "id": "27bcb125-40bf-4219-94eb-68586cc1dfd6",
   "metadata": {},
   "source": [
    "## 학습, 평가 메트릭 기록하기\n",
    "***"
   ]
  },
  {
   "cell_type": "code",
   "execution_count": 5,
   "id": "a8f5fa41-ffee-4064-b3d5-3747cf97ef0c",
   "metadata": {},
   "outputs": [],
   "source": [
    "import wandb\n",
    "import torch\n",
    "from torch.nn import functional as F\n",
    "from torch import optim\n",
    "from torch.utils.data import DataLoader\n",
    "from torchvision.datasets import CIFAR10\n",
    "from torchvision.transforms import ToTensor\n",
    "from torchvision.models import resnet18\n",
    "from tqdm.auto import tqdm, trange\n",
    "\n",
    "EPOCH = 100\n",
    "device = torch.device('cuda') if torch.cuda.is_available() else 'cpu'"
   ]
  },
  {
   "cell_type": "code",
   "execution_count": 2,
   "id": "5619112c-0f36-433f-9c70-310a2ec27b94",
   "metadata": {},
   "outputs": [
    {
     "name": "stdout",
     "output_type": "stream",
     "text": [
      "Files already downloaded and verified\n",
      "Files already downloaded and verified\n"
     ]
    }
   ],
   "source": [
    "class AverageMeter(object):\n",
    "    \"\"\"Computes and stores the average and current value\"\"\"\n",
    "    def __init__(self):\n",
    "        self.reset()\n",
    "\n",
    "    def reset(self):\n",
    "        self.val = 0\n",
    "        self.avg = 0\n",
    "        self.sum = 0\n",
    "        self.count = 0\n",
    "\n",
    "    def update(self, val, n=1):\n",
    "        self.val = val\n",
    "        self.sum += val * n\n",
    "        self.count += n\n",
    "        self.avg = self.sum / self.count\n",
    "\n",
    "# 학습 준비\n",
    "trainset = CIFAR10('~/data', train=True, transform=ToTensor(), download=True)\n",
    "testset = CIFAR10('~/data', train=False, transform=ToTensor(), download=True)\n",
    "# trainset = CIFAR10('/content', train=True, transform=ToTensor(), download=True)\n",
    "# testset = CIFAR10('/content', train=False, transform=ToTensor(), download=True)\n",
    "trainloader = DataLoader(trainset, batch_size=32, shuffle=True, num_workers=2)\n",
    "testloader = DataLoader(testset, batch_size=32, shuffle=False, num_workers=2)\n",
    "model = resnet18(num_classes=10).to(device)\n",
    "optimizer = optim.Adam(model.parameters(), lr=1e-3)\n",
    "\n",
    "avg_train_acc = AverageMeter()\n",
    "avg_train_loss = AverageMeter()\n",
    "avg_test_acc = AverageMeter()\n",
    "avg_test_loss = AverageMeter()"
   ]
  },
  {
   "cell_type": "code",
   "execution_count": 37,
   "id": "10e851c2-f12b-4ef3-a98f-39129120b038",
   "metadata": {},
   "outputs": [
    {
     "data": {
      "text/html": [
       "Finishing last run (ID:29ir8nt5) before initializing another..."
      ],
      "text/plain": [
       "<IPython.core.display.HTML object>"
      ]
     },
     "metadata": {},
     "output_type": "display_data"
    },
    {
     "data": {
      "text/html": [
       "Waiting for W&B process to finish... <strong style=\"color:green\">(success).</strong>"
      ],
      "text/plain": [
       "<IPython.core.display.HTML object>"
      ]
     },
     "metadata": {},
     "output_type": "display_data"
    },
    {
     "data": {
      "application/vnd.jupyter.widget-view+json": {
       "model_id": "",
       "version_major": 2,
       "version_minor": 0
      },
      "text/plain": [
       "VBox(children=(Label(value='0.007 MB of 0.007 MB uploaded (0.000 MB deduped)\\r'), FloatProgress(value=1.0, max…"
      ]
     },
     "metadata": {},
     "output_type": "display_data"
    },
    {
     "data": {
      "text/html": [
       "Synced <strong style=\"color:#cdcd00\">daily-eon-2</strong>: <a href=\"https://wandb.ai/iislab-official/my-awesome-project/runs/29ir8nt5\" target=\"_blank\">https://wandb.ai/iislab-official/my-awesome-project/runs/29ir8nt5</a><br/>Synced 7 W&B file(s), 0 media file(s), 0 artifact file(s) and 1 other file(s)"
      ],
      "text/plain": [
       "<IPython.core.display.HTML object>"
      ]
     },
     "metadata": {},
     "output_type": "display_data"
    },
    {
     "data": {
      "text/html": [
       "Find logs at: <code>./wandb/run-20221230_094252-29ir8nt5/logs</code>"
      ],
      "text/plain": [
       "<IPython.core.display.HTML object>"
      ]
     },
     "metadata": {},
     "output_type": "display_data"
    },
    {
     "data": {
      "text/html": [
       "Successfully finished last run (ID:29ir8nt5). Initializing new run:<br/>"
      ],
      "text/plain": [
       "<IPython.core.display.HTML object>"
      ]
     },
     "metadata": {},
     "output_type": "display_data"
    },
    {
     "data": {
      "application/vnd.jupyter.widget-view+json": {
       "model_id": "4febdde5027846cb9448f2e799a2345c",
       "version_major": 2,
       "version_minor": 0
      },
      "text/plain": [
       "VBox(children=(Label(value='Waiting for wandb.init()...\\r'), FloatProgress(value=0.033337791760762535, max=1.0…"
      ]
     },
     "metadata": {},
     "output_type": "display_data"
    },
    {
     "data": {
      "text/html": [
       "wandb version 0.13.7 is available!  To upgrade, please run:\n",
       " $ pip install wandb --upgrade"
      ],
      "text/plain": [
       "<IPython.core.display.HTML object>"
      ]
     },
     "metadata": {},
     "output_type": "display_data"
    },
    {
     "data": {
      "text/html": [
       "Tracking run with wandb version 0.13.3"
      ],
      "text/plain": [
       "<IPython.core.display.HTML object>"
      ]
     },
     "metadata": {},
     "output_type": "display_data"
    },
    {
     "data": {
      "text/html": [
       "Run data is saved locally in <code>/mnt/c/Users/ajh50/workspace/Lectures/2022_pangyo/wandb/run-20221230_094335-235dbok2</code>"
      ],
      "text/plain": [
       "<IPython.core.display.HTML object>"
      ]
     },
     "metadata": {},
     "output_type": "display_data"
    },
    {
     "data": {
      "text/html": [
       "Syncing run <strong><a href=\"https://wandb.ai/iislab-official/my-awesome-project/runs/235dbok2\" target=\"_blank\">logical-microwave-3</a></strong> to <a href=\"https://wandb.ai/iislab-official/my-awesome-project\" target=\"_blank\">Weights & Biases</a> (<a href=\"https://wandb.me/run\" target=\"_blank\">docs</a>)<br/>"
      ],
      "text/plain": [
       "<IPython.core.display.HTML object>"
      ]
     },
     "metadata": {},
     "output_type": "display_data"
    },
    {
     "data": {
      "application/vnd.jupyter.widget-view+json": {
       "model_id": "3d16e39376374f1db6c55b185baa27cc",
       "version_major": 2,
       "version_minor": 0
      },
      "text/plain": [
       "  0%|          | 0/100 [00:00<?, ?it/s]"
      ]
     },
     "metadata": {},
     "output_type": "display_data"
    },
    {
     "data": {
      "text/html": [
       "Waiting for W&B process to finish... <strong style=\"color:green\">(success).</strong>"
      ],
      "text/plain": [
       "<IPython.core.display.HTML object>"
      ]
     },
     "metadata": {},
     "output_type": "display_data"
    },
    {
     "data": {
      "application/vnd.jupyter.widget-view+json": {
       "model_id": "",
       "version_major": 2,
       "version_minor": 0
      },
      "text/plain": [
       "VBox(children=(Label(value='0.007 MB of 0.007 MB uploaded (0.000 MB deduped)\\r'), FloatProgress(value=1.0, max…"
      ]
     },
     "metadata": {},
     "output_type": "display_data"
    },
    {
     "data": {
      "text/html": [
       "<style>\n",
       "    table.wandb td:nth-child(1) { padding: 0 10px; text-align: left ; width: auto;} td:nth-child(2) {text-align: left ; width: 100%}\n",
       "    .wandb-row { display: flex; flex-direction: row; flex-wrap: wrap; justify-content: flex-start; width: 100% }\n",
       "    .wandb-col { display: flex; flex-direction: column; flex-basis: 100%; flex: 1; padding: 10px; }\n",
       "    </style>\n",
       "<div class=\"wandb-row\"><div class=\"wandb-col\"><h3>Run history:</h3><br/><table class=\"wandb\"><tr><td>test_acc</td><td>▁▄▅▆▇▇▇▇▇▇▇▇████████████████████████████</td></tr><tr><td>test_loss</td><td>█▃▂▁▁▁▁▁▂▂▂▂▃▃▃▃▃▃▄▄▄▄▄▄▄▄▄▄▅▅▅▅▅▅▅▅▅▅▅▅</td></tr><tr><td>train_acc</td><td>▁▃▄▅▅▆▆▆▇▇▇▇▇▇▇▇▇▇██████████████████████</td></tr><tr><td>train_loss</td><td>█▆▅▄▄▃▃▃▂▂▂▂▂▂▂▂▂▂▁▁▁▁▁▁▁▁▁▁▁▁▁▁▁▁▁▁▁▁▁▁</td></tr></table><br/></div><div class=\"wandb-col\"><h3>Run summary:</h3><br/><table class=\"wandb\"><tr><td>test_acc</td><td>0.76173</td></tr><tr><td>test_loss</td><td>1.34174</td></tr><tr><td>train_acc</td><td>0.96575</td></tr><tr><td>train_loss</td><td>0.09932</td></tr></table><br/></div></div>"
      ],
      "text/plain": [
       "<IPython.core.display.HTML object>"
      ]
     },
     "metadata": {},
     "output_type": "display_data"
    },
    {
     "data": {
      "text/html": [
       "Synced <strong style=\"color:#cdcd00\">logical-microwave-3</strong>: <a href=\"https://wandb.ai/iislab-official/my-awesome-project/runs/235dbok2\" target=\"_blank\">https://wandb.ai/iislab-official/my-awesome-project/runs/235dbok2</a><br/>Synced 6 W&B file(s), 0 media file(s), 0 artifact file(s) and 0 other file(s)"
      ],
      "text/plain": [
       "<IPython.core.display.HTML object>"
      ]
     },
     "metadata": {},
     "output_type": "display_data"
    },
    {
     "data": {
      "text/html": [
       "Find logs at: <code>./wandb/run-20221230_094335-235dbok2/logs</code>"
      ],
      "text/plain": [
       "<IPython.core.display.HTML object>"
      ]
     },
     "metadata": {},
     "output_type": "display_data"
    }
   ],
   "source": [
    "# 학습 시작\n",
    "########## Code here ###########\n",
    "wandb.init(\n",
    "    # set the wandb project where this run will be logged\n",
    "    project=\"my-awesome-project\",\n",
    "    # track hyperparameters and run metadata\n",
    "    config={\n",
    "    \"learning_rate\": 0.02,\n",
    "    \"architecture\": \"CNN\",\n",
    "    \"dataset\": \"CIFAR-10\",\n",
    "    \"epochs\": 10,\n",
    "    }\n",
    ")\n",
    "\n",
    "################################\n",
    "\n",
    "for e in trange(EPOCH):\n",
    "    model.train()\n",
    "    for data, target in trainloader:\n",
    "        optimizer.zero_grad()\n",
    "        pred = model(data.cuda())\n",
    "        loss = F.cross_entropy(pred, target.cuda())\n",
    "        loss.backward()\n",
    "        optimizer.step()\n",
    "        ########## Code here ###########\n",
    "        pred_labels = torch.argmax(pred, dim=1).detach().cpu().numpy()\n",
    "        acc = accuracy_score(target.numpy(), pred_labels)\n",
    "        avg_train_acc.update(acc, n=len(data))\n",
    "        avg_train_loss.update(loss.item())\n",
    "        ################################\n",
    "    model.eval()\n",
    "    for data, target in testloader:\n",
    "        pred = model(data.cuda())\n",
    "        loss = F.cross_entropy(pred, target.cuda())\n",
    "        ########## Code here ###########\n",
    "        pred_labels = torch.argmax(pred, dim=1).detach().cpu().numpy()\n",
    "        acc = accuracy_score(target.numpy(), pred_labels)\n",
    "        avg_test_acc.update(acc, n=len(data))\n",
    "        avg_test_loss.update(loss.item())\n",
    "        ################################\n",
    "    ########## Code here ###########\n",
    "    wandb.log({\n",
    "        'train_acc':avg_train_acc.avg,\n",
    "        'train_loss':avg_train_loss.avg,\n",
    "        'test_acc':avg_test_acc.avg,\n",
    "        'test_loss':avg_test_loss.avg,\n",
    "    })\n",
    "    ################################\n",
    "wandb.finish()"
   ]
  },
  {
   "cell_type": "markdown",
   "id": "39f3331d-5e4f-4995-9380-cf5e84f74d39",
   "metadata": {},
   "source": [
    "## 학습중 이미지 업로드\n",
    "***\n",
    "Vision 관련 딥러닝 모델들을 학습할 때는 정확도, loss값등 단순 수치보다 시각적으로 진척을 확인해야 할 때가 많음\n",
    "* 모델이 이미지에서 올바른 특징들을 잡아내고 있는지\n",
    "* 객체탐지를 잘하는지\n",
    "* segmentation이 정상적으로 되는지\n",
    "\n",
    "등 을 실시간으로 확인할 수 있어야 학습 잘못 돌려놓고 며칠뒤에 깨닫는 일이 없음..."
   ]
  },
  {
   "cell_type": "markdown",
   "id": "c62814e1-2d86-4bc4-a690-3c4663d9a25b",
   "metadata": {},
   "source": [
    "* 라이브러리 제공 이미지 객체 사용(`torchvision` `make_grid` 등 사용시)\n",
    "```python\n",
    "images = wandb.Image(image_array, caption=\"Top: Output, Bottom: Input\")\n",
    "wandb.log({\"examples\": images}\n",
    "```\n",
    "\n",
    "\n",
    "* numpy array 사용\n",
    "```python\n",
    "images = [PIL.Image.fromarray(image) for image in image_array]\n",
    "wandb.log({\"examples\": [wandb.Image(image) for image in images]}\n",
    "```\n",
    "\n",
    "\n",
    "* 파일 직접 업로드\n",
    "```python\n",
    "im = PIL.fromarray(...)\n",
    "rgb_im = im.convert('RGB')\n",
    "rgb_im.save('myimage.jpg')\n",
    "wandb.log({\"example\": wandb.Image(\"myimage.jpg\")})\n",
    "```\n",
    "\n",
    "*Note: 스텝 당 50장 이상의 이미지를 로깅하면 코드의 성능이 심각하게 저하될 수 있습니다.*"
   ]
  },
  {
   "cell_type": "code",
   "execution_count": 3,
   "id": "c01567de-c867-43c4-be4d-03f12c2b3786",
   "metadata": {},
   "outputs": [],
   "source": [
    "import PIL\n",
    "from torchvision.transforms import ToPILImage"
   ]
  },
  {
   "cell_type": "code",
   "execution_count": null,
   "id": "64e20126-779f-40c0-8c46-de9df8e4a749",
   "metadata": {},
   "outputs": [],
   "source": [
    "model(data)"
   ]
  },
  {
   "cell_type": "code",
   "execution_count": 10,
   "id": "41132ed0-3b8f-401a-8128-8b21fde02da0",
   "metadata": {},
   "outputs": [
    {
     "data": {
      "image/png": "[encoded data removed]",
      "text/plain": [
       "<PIL.Image.Image image mode=RGB size=32x32>"
      ]
     },
     "execution_count": 10,
     "metadata": {},
     "output_type": "execute_result"
    }
   ],
   "source": [
    "ToPILImage()(data[0])"
   ]
  },
  {
   "cell_type": "code",
   "execution_count": 6,
   "id": "795fcfe0-ed41-47bf-9ac2-8f3e9bb36e1e",
   "metadata": {},
   "outputs": [
    {
     "name": "stderr",
     "output_type": "stream",
     "text": [
      "Failed to detect the name of this notebook, you can set it manually with the WANDB_NOTEBOOK_NAME environment variable to enable code saving.\n",
      "\u001b[34m\u001b[1mwandb\u001b[0m: Currently logged in as: \u001b[33mdev-jahn\u001b[0m (\u001b[33miislab-official\u001b[0m). Use \u001b[1m`wandb login --relogin`\u001b[0m to force relogin\n"
     ]
    },
    {
     "data": {
      "text/html": [
       "wandb version 0.13.7 is available!  To upgrade, please run:\n",
       " $ pip install wandb --upgrade"
      ],
      "text/plain": [
       "<IPython.core.display.HTML object>"
      ]
     },
     "metadata": {},
     "output_type": "display_data"
    },
    {
     "data": {
      "text/html": [
       "Tracking run with wandb version 0.13.3"
      ],
      "text/plain": [
       "<IPython.core.display.HTML object>"
      ]
     },
     "metadata": {},
     "output_type": "display_data"
    },
    {
     "data": {
      "text/html": [
       "Run data is saved locally in <code>/mnt/c/Users/ajh50/workspace/Lectures/2022_pangyo/wandb/run-20221230_102525-3n2iz3g3</code>"
      ],
      "text/plain": [
       "<IPython.core.display.HTML object>"
      ]
     },
     "metadata": {},
     "output_type": "display_data"
    },
    {
     "data": {
      "text/html": [
       "Syncing run <strong><a href=\"https://wandb.ai/iislab-official/my-awesome-project/runs/3n2iz3g3\" target=\"_blank\">vital-sky-10</a></strong> to <a href=\"https://wandb.ai/iislab-official/my-awesome-project\" target=\"_blank\">Weights & Biases</a> (<a href=\"https://wandb.me/run\" target=\"_blank\">docs</a>)<br/>"
      ],
      "text/plain": [
       "<IPython.core.display.HTML object>"
      ]
     },
     "metadata": {},
     "output_type": "display_data"
    },
    {
     "data": {
      "application/vnd.jupyter.widget-view+json": {
       "model_id": "7674f4f1de6c45f7b6b6d12c3166d637",
       "version_major": 2,
       "version_minor": 0
      },
      "text/plain": [
       "  0%|          | 0/100 [00:00<?, ?it/s]"
      ]
     },
     "metadata": {},
     "output_type": "display_data"
    },
    {
     "ename": "KeyboardInterrupt",
     "evalue": "",
     "output_type": "error",
     "traceback": [
      "\u001b[0;31m---------------------------------------------------------------------------\u001b[0m",
      "\u001b[0;31mKeyboardInterrupt\u001b[0m                         Traceback (most recent call last)",
      "Cell \u001b[0;32mIn [6], line 36\u001b[0m\n\u001b[1;32m     32\u001b[0m         images \u001b[38;5;241m=\u001b[39m [ToPILImage()(image) \u001b[38;5;28;01mfor\u001b[39;00m image \u001b[38;5;129;01min\u001b[39;00m data]\n\u001b[1;32m     33\u001b[0m         \u001b[38;5;66;03m# wandb.Image() 함수의 인자로 caption을 추가해서 예측 레이블과 실제 레이블을 표시해주기\u001b[39;00m\n\u001b[1;32m     34\u001b[0m         \u001b[38;5;66;03m# Hint. for image, pred, real in zip(images, pred_labels, real_labels)\u001b[39;00m\n\u001b[1;32m     35\u001b[0m         \u001b[38;5;66;03m# List comprehension으로 wandb.Image 객체들을 리스트 형태로 딕셔너리 안에 넣어주기\u001b[39;00m\n\u001b[0;32m---> 36\u001b[0m         \u001b[43mwandb\u001b[49m\u001b[38;5;241;43m.\u001b[39;49m\u001b[43mlog\u001b[49m\u001b[43m(\u001b[49m\u001b[43m{\u001b[49m\n\u001b[1;32m     37\u001b[0m \u001b[43m            \u001b[49m\u001b[38;5;124;43m\"\u001b[39;49m\u001b[38;5;124;43mtest predictions\u001b[39;49m\u001b[38;5;124;43m\"\u001b[39;49m\u001b[43m:\u001b[49m\u001b[43m \u001b[49m\u001b[43m[\u001b[49m\n\u001b[1;32m     38\u001b[0m \u001b[43m                \u001b[49m\u001b[43mwandb\u001b[49m\u001b[38;5;241;43m.\u001b[39;49m\u001b[43mImage\u001b[49m\u001b[43m(\u001b[49m\n\u001b[1;32m     39\u001b[0m \u001b[43m                    \u001b[49m\u001b[43mimage\u001b[49m\u001b[43m,\u001b[49m\u001b[43m \u001b[49m\u001b[43mcaption\u001b[49m\u001b[38;5;241;43m=\u001b[39;49m\u001b[38;5;124;43mf\u001b[39;49m\u001b[38;5;124;43m'\u001b[39;49m\u001b[38;5;124;43mReal: \u001b[39;49m\u001b[38;5;132;43;01m{\u001b[39;49;00m\u001b[43mreal\u001b[49m\u001b[38;5;132;43;01m}\u001b[39;49;00m\u001b[38;5;124;43m Pred: \u001b[39;49m\u001b[38;5;132;43;01m{\u001b[39;49;00m\u001b[43mreal\u001b[49m\u001b[38;5;132;43;01m}\u001b[39;49;00m\u001b[38;5;124;43m'\u001b[39;49m\n\u001b[1;32m     40\u001b[0m \u001b[43m                \u001b[49m\u001b[43m)\u001b[49m\u001b[43m \u001b[49m\u001b[38;5;28;43;01mfor\u001b[39;49;00m\u001b[43m \u001b[49m\u001b[43mimage\u001b[49m\u001b[43m,\u001b[49m\u001b[43m \u001b[49m\u001b[43mpred\u001b[49m\u001b[43m,\u001b[49m\u001b[43m \u001b[49m\u001b[43mreal\u001b[49m\u001b[43m \u001b[49m\u001b[38;5;129;43;01min\u001b[39;49;00m\u001b[43m \u001b[49m\u001b[38;5;28;43mzip\u001b[39;49m\u001b[43m(\u001b[49m\u001b[43mimages\u001b[49m\u001b[43m,\u001b[49m\u001b[43m \u001b[49m\u001b[43mpred_labels\u001b[49m\u001b[43m,\u001b[49m\u001b[43m \u001b[49m\u001b[43mreal_labels\u001b[49m\u001b[43m)\u001b[49m\u001b[43m]\u001b[49m\n\u001b[1;32m     41\u001b[0m \u001b[43m        \u001b[49m\u001b[43m}\u001b[49m\u001b[43m)\u001b[49m\n\u001b[1;32m     42\u001b[0m         \u001b[38;5;66;03m################################\u001b[39;00m\n\u001b[1;32m     43\u001b[0m wandb\u001b[38;5;241m.\u001b[39mfinish()\n",
      "File \u001b[0;32m~/anaconda3/envs/torch_1.12.1/lib/python3.9/site-packages/wandb/sdk/wandb_run.py:282\u001b[0m, in \u001b[0;36m_run_decorator._noop.<locals>.wrapper\u001b[0;34m(self, *args, **kwargs)\u001b[0m\n\u001b[1;32m    279\u001b[0m         wandb\u001b[38;5;241m.\u001b[39mtermwarn(message, repeat\u001b[38;5;241m=\u001b[39m\u001b[38;5;28;01mFalse\u001b[39;00m)\n\u001b[1;32m    280\u001b[0m         \u001b[38;5;28;01mreturn\u001b[39;00m \u001b[38;5;28mcls\u001b[39m\u001b[38;5;241m.\u001b[39mDummy()\n\u001b[0;32m--> 282\u001b[0m \u001b[38;5;28;01mreturn\u001b[39;00m \u001b[43mfunc\u001b[49m\u001b[43m(\u001b[49m\u001b[38;5;28;43mself\u001b[39;49m\u001b[43m,\u001b[49m\u001b[43m \u001b[49m\u001b[38;5;241;43m*\u001b[39;49m\u001b[43margs\u001b[49m\u001b[43m,\u001b[49m\u001b[43m \u001b[49m\u001b[38;5;241;43m*\u001b[39;49m\u001b[38;5;241;43m*\u001b[39;49m\u001b[43mkwargs\u001b[49m\u001b[43m)\u001b[49m\n",
      "File \u001b[0;32m~/anaconda3/envs/torch_1.12.1/lib/python3.9/site-packages/wandb/sdk/wandb_run.py:245\u001b[0m, in \u001b[0;36m_run_decorator._attach.<locals>.wrapper\u001b[0;34m(self, *args, **kwargs)\u001b[0m\n\u001b[1;32m    243\u001b[0m         \u001b[38;5;28;01mraise\u001b[39;00m e\n\u001b[1;32m    244\u001b[0m     \u001b[38;5;28mcls\u001b[39m\u001b[38;5;241m.\u001b[39m_is_attaching \u001b[38;5;241m=\u001b[39m \u001b[38;5;124m\"\u001b[39m\u001b[38;5;124m\"\u001b[39m\n\u001b[0;32m--> 245\u001b[0m \u001b[38;5;28;01mreturn\u001b[39;00m \u001b[43mfunc\u001b[49m\u001b[43m(\u001b[49m\u001b[38;5;28;43mself\u001b[39;49m\u001b[43m,\u001b[49m\u001b[43m \u001b[49m\u001b[38;5;241;43m*\u001b[39;49m\u001b[43margs\u001b[49m\u001b[43m,\u001b[49m\u001b[43m \u001b[49m\u001b[38;5;241;43m*\u001b[39;49m\u001b[38;5;241;43m*\u001b[39;49m\u001b[43mkwargs\u001b[49m\u001b[43m)\u001b[49m\n",
      "File \u001b[0;32m~/anaconda3/envs/torch_1.12.1/lib/python3.9/site-packages/wandb/sdk/wandb_run.py:1583\u001b[0m, in \u001b[0;36mRun.log\u001b[0;34m(self, data, step, commit, sync)\u001b[0m\n\u001b[1;32m   1576\u001b[0m \u001b[38;5;28;01mif\u001b[39;00m sync \u001b[38;5;129;01mis\u001b[39;00m \u001b[38;5;129;01mnot\u001b[39;00m \u001b[38;5;28;01mNone\u001b[39;00m:\n\u001b[1;32m   1577\u001b[0m     deprecate\u001b[38;5;241m.\u001b[39mdeprecate(\n\u001b[1;32m   1578\u001b[0m         field_name\u001b[38;5;241m=\u001b[39mdeprecate\u001b[38;5;241m.\u001b[39mDeprecated\u001b[38;5;241m.\u001b[39mrun__log_sync,\n\u001b[1;32m   1579\u001b[0m         warning_message\u001b[38;5;241m=\u001b[39m(\n\u001b[1;32m   1580\u001b[0m             \u001b[38;5;124m\"\u001b[39m\u001b[38;5;124m`sync` argument is deprecated and does not affect the behaviour of `wandb.log`\u001b[39m\u001b[38;5;124m\"\u001b[39m\n\u001b[1;32m   1581\u001b[0m         ),\n\u001b[1;32m   1582\u001b[0m     )\n\u001b[0;32m-> 1583\u001b[0m \u001b[38;5;28;43mself\u001b[39;49m\u001b[38;5;241;43m.\u001b[39;49m\u001b[43m_log\u001b[49m\u001b[43m(\u001b[49m\u001b[43mdata\u001b[49m\u001b[38;5;241;43m=\u001b[39;49m\u001b[43mdata\u001b[49m\u001b[43m,\u001b[49m\u001b[43m \u001b[49m\u001b[43mstep\u001b[49m\u001b[38;5;241;43m=\u001b[39;49m\u001b[43mstep\u001b[49m\u001b[43m,\u001b[49m\u001b[43m \u001b[49m\u001b[43mcommit\u001b[49m\u001b[38;5;241;43m=\u001b[39;49m\u001b[43mcommit\u001b[49m\u001b[43m)\u001b[49m\n",
      "File \u001b[0;32m~/anaconda3/envs/torch_1.12.1/lib/python3.9/site-packages/wandb/sdk/wandb_run.py:1365\u001b[0m, in \u001b[0;36mRun._log\u001b[0;34m(self, data, step, commit)\u001b[0m\n\u001b[1;32m   1362\u001b[0m \u001b[38;5;28;01mif\u001b[39;00m \u001b[38;5;28many\u001b[39m(\u001b[38;5;129;01mnot\u001b[39;00m \u001b[38;5;28misinstance\u001b[39m(key, \u001b[38;5;28mstr\u001b[39m) \u001b[38;5;28;01mfor\u001b[39;00m key \u001b[38;5;129;01min\u001b[39;00m data\u001b[38;5;241m.\u001b[39mkeys()):\n\u001b[1;32m   1363\u001b[0m     \u001b[38;5;28;01mraise\u001b[39;00m \u001b[38;5;167;01mValueError\u001b[39;00m(\u001b[38;5;124m\"\u001b[39m\u001b[38;5;124mKey values passed to `wandb.log` must be strings.\u001b[39m\u001b[38;5;124m\"\u001b[39m)\n\u001b[0;32m-> 1365\u001b[0m \u001b[38;5;28;43mself\u001b[39;49m\u001b[38;5;241;43m.\u001b[39;49m\u001b[43m_partial_history_callback\u001b[49m\u001b[43m(\u001b[49m\u001b[43mdata\u001b[49m\u001b[43m,\u001b[49m\u001b[43m \u001b[49m\u001b[43mstep\u001b[49m\u001b[43m,\u001b[49m\u001b[43m \u001b[49m\u001b[43mcommit\u001b[49m\u001b[43m)\u001b[49m\n\u001b[1;32m   1367\u001b[0m \u001b[38;5;28;01mif\u001b[39;00m step \u001b[38;5;129;01mis\u001b[39;00m \u001b[38;5;129;01mnot\u001b[39;00m \u001b[38;5;28;01mNone\u001b[39;00m:\n\u001b[1;32m   1368\u001b[0m     \u001b[38;5;28;01mif\u001b[39;00m os\u001b[38;5;241m.\u001b[39mgetpid() \u001b[38;5;241m!=\u001b[39m \u001b[38;5;28mself\u001b[39m\u001b[38;5;241m.\u001b[39m_init_pid \u001b[38;5;129;01mor\u001b[39;00m \u001b[38;5;28mself\u001b[39m\u001b[38;5;241m.\u001b[39m_is_attached:\n",
      "File \u001b[0;32m~/anaconda3/envs/torch_1.12.1/lib/python3.9/site-packages/wandb/sdk/wandb_run.py:1249\u001b[0m, in \u001b[0;36mRun._partial_history_callback\u001b[0;34m(self, row, step, commit)\u001b[0m\n\u001b[1;32m   1246\u001b[0m \u001b[38;5;28;01mif\u001b[39;00m \u001b[38;5;28mself\u001b[39m\u001b[38;5;241m.\u001b[39m_backend \u001b[38;5;129;01mand\u001b[39;00m \u001b[38;5;28mself\u001b[39m\u001b[38;5;241m.\u001b[39m_backend\u001b[38;5;241m.\u001b[39minterface:\n\u001b[1;32m   1247\u001b[0m     not_using_tensorboard \u001b[38;5;241m=\u001b[39m \u001b[38;5;28mlen\u001b[39m(wandb\u001b[38;5;241m.\u001b[39mpatched[\u001b[38;5;124m\"\u001b[39m\u001b[38;5;124mtensorboard\u001b[39m\u001b[38;5;124m\"\u001b[39m]) \u001b[38;5;241m==\u001b[39m \u001b[38;5;241m0\u001b[39m\n\u001b[0;32m-> 1249\u001b[0m     \u001b[38;5;28;43mself\u001b[39;49m\u001b[38;5;241;43m.\u001b[39;49m\u001b[43m_backend\u001b[49m\u001b[38;5;241;43m.\u001b[39;49m\u001b[43minterface\u001b[49m\u001b[38;5;241;43m.\u001b[39;49m\u001b[43mpublish_partial_history\u001b[49m\u001b[43m(\u001b[49m\n\u001b[1;32m   1250\u001b[0m \u001b[43m        \u001b[49m\u001b[43mrow\u001b[49m\u001b[43m,\u001b[49m\n\u001b[1;32m   1251\u001b[0m \u001b[43m        \u001b[49m\u001b[43muser_step\u001b[49m\u001b[38;5;241;43m=\u001b[39;49m\u001b[38;5;28;43mself\u001b[39;49m\u001b[38;5;241;43m.\u001b[39;49m\u001b[43m_step\u001b[49m\u001b[43m,\u001b[49m\n\u001b[1;32m   1252\u001b[0m \u001b[43m        \u001b[49m\u001b[43mstep\u001b[49m\u001b[38;5;241;43m=\u001b[39;49m\u001b[43mstep\u001b[49m\u001b[43m,\u001b[49m\n\u001b[1;32m   1253\u001b[0m \u001b[43m        \u001b[49m\u001b[43mflush\u001b[49m\u001b[38;5;241;43m=\u001b[39;49m\u001b[43mcommit\u001b[49m\u001b[43m,\u001b[49m\n\u001b[1;32m   1254\u001b[0m \u001b[43m        \u001b[49m\u001b[43mpublish_step\u001b[49m\u001b[38;5;241;43m=\u001b[39;49m\u001b[43mnot_using_tensorboard\u001b[49m\u001b[43m,\u001b[49m\n\u001b[1;32m   1255\u001b[0m \u001b[43m    \u001b[49m\u001b[43m)\u001b[49m\n",
      "File \u001b[0;32m~/anaconda3/envs/torch_1.12.1/lib/python3.9/site-packages/wandb/sdk/interface/interface.py:542\u001b[0m, in \u001b[0;36mInterfaceBase.publish_partial_history\u001b[0;34m(self, data, user_step, step, flush, publish_step, run)\u001b[0m\n\u001b[1;32m    531\u001b[0m \u001b[38;5;28;01mdef\u001b[39;00m \u001b[38;5;21mpublish_partial_history\u001b[39m(\n\u001b[1;32m    532\u001b[0m     \u001b[38;5;28mself\u001b[39m,\n\u001b[1;32m    533\u001b[0m     data: \u001b[38;5;28mdict\u001b[39m,\n\u001b[0;32m   (...)\u001b[0m\n\u001b[1;32m    538\u001b[0m     run: Optional[\u001b[38;5;124m\"\u001b[39m\u001b[38;5;124mRun\u001b[39m\u001b[38;5;124m\"\u001b[39m] \u001b[38;5;241m=\u001b[39m \u001b[38;5;28;01mNone\u001b[39;00m,\n\u001b[1;32m    539\u001b[0m ) \u001b[38;5;241m-\u001b[39m\u001b[38;5;241m>\u001b[39m \u001b[38;5;28;01mNone\u001b[39;00m:\n\u001b[1;32m    540\u001b[0m     run \u001b[38;5;241m=\u001b[39m run \u001b[38;5;129;01mor\u001b[39;00m \u001b[38;5;28mself\u001b[39m\u001b[38;5;241m.\u001b[39m_run\n\u001b[0;32m--> 542\u001b[0m     data \u001b[38;5;241m=\u001b[39m \u001b[43mhistory_dict_to_json\u001b[49m\u001b[43m(\u001b[49m\u001b[43mrun\u001b[49m\u001b[43m,\u001b[49m\u001b[43m \u001b[49m\u001b[43mdata\u001b[49m\u001b[43m,\u001b[49m\u001b[43m \u001b[49m\u001b[43mstep\u001b[49m\u001b[38;5;241;43m=\u001b[39;49m\u001b[43muser_step\u001b[49m\u001b[43m,\u001b[49m\u001b[43m \u001b[49m\u001b[43mignore_copy_err\u001b[49m\u001b[38;5;241;43m=\u001b[39;49m\u001b[38;5;28;43;01mTrue\u001b[39;49;00m\u001b[43m)\u001b[49m\n\u001b[1;32m    543\u001b[0m     data\u001b[38;5;241m.\u001b[39mpop(\u001b[38;5;124m\"\u001b[39m\u001b[38;5;124m_step\u001b[39m\u001b[38;5;124m\"\u001b[39m, \u001b[38;5;28;01mNone\u001b[39;00m)\n\u001b[1;32m    545\u001b[0m     \u001b[38;5;66;03m# add timestamp to the history request, if not already present\u001b[39;00m\n\u001b[1;32m    546\u001b[0m     \u001b[38;5;66;03m# the timestamp might come from the tensorboard log logic\u001b[39;00m\n",
      "File \u001b[0;32m~/anaconda3/envs/torch_1.12.1/lib/python3.9/site-packages/wandb/sdk/data_types/utils.py:52\u001b[0m, in \u001b[0;36mhistory_dict_to_json\u001b[0;34m(run, payload, step, ignore_copy_err)\u001b[0m\n\u001b[1;32m     48\u001b[0m         payload[key] \u001b[38;5;241m=\u001b[39m history_dict_to_json(\n\u001b[1;32m     49\u001b[0m             run, val, step\u001b[38;5;241m=\u001b[39mstep, ignore_copy_err\u001b[38;5;241m=\u001b[39mignore_copy_err\n\u001b[1;32m     50\u001b[0m         )\n\u001b[1;32m     51\u001b[0m     \u001b[38;5;28;01melse\u001b[39;00m:\n\u001b[0;32m---> 52\u001b[0m         payload[key] \u001b[38;5;241m=\u001b[39m \u001b[43mval_to_json\u001b[49m\u001b[43m(\u001b[49m\n\u001b[1;32m     53\u001b[0m \u001b[43m            \u001b[49m\u001b[43mrun\u001b[49m\u001b[43m,\u001b[49m\u001b[43m \u001b[49m\u001b[43mkey\u001b[49m\u001b[43m,\u001b[49m\u001b[43m \u001b[49m\u001b[43mval\u001b[49m\u001b[43m,\u001b[49m\u001b[43m \u001b[49m\u001b[43mnamespace\u001b[49m\u001b[38;5;241;43m=\u001b[39;49m\u001b[43mstep\u001b[49m\u001b[43m,\u001b[49m\u001b[43m \u001b[49m\u001b[43mignore_copy_err\u001b[49m\u001b[38;5;241;43m=\u001b[39;49m\u001b[43mignore_copy_err\u001b[49m\n\u001b[1;32m     54\u001b[0m \u001b[43m        \u001b[49m\u001b[43m)\u001b[49m\n\u001b[1;32m     56\u001b[0m \u001b[38;5;28;01mreturn\u001b[39;00m payload\n",
      "File \u001b[0;32m~/anaconda3/envs/torch_1.12.1/lib/python3.9/site-packages/wandb/sdk/data_types/utils.py:97\u001b[0m, in \u001b[0;36mval_to_json\u001b[0;34m(run, key, val, namespace, ignore_copy_err)\u001b[0m\n\u001b[1;32m     95\u001b[0m \u001b[38;5;28;01mif\u001b[39;00m _server_accepts_image_filenames():\n\u001b[1;32m     96\u001b[0m     \u001b[38;5;28;01mfor\u001b[39;00m item \u001b[38;5;129;01min\u001b[39;00m items:\n\u001b[0;32m---> 97\u001b[0m         \u001b[43mitem\u001b[49m\u001b[38;5;241;43m.\u001b[39;49m\u001b[43mbind_to_run\u001b[49m\u001b[43m(\u001b[49m\n\u001b[1;32m     98\u001b[0m \u001b[43m            \u001b[49m\u001b[43mrun\u001b[49m\u001b[38;5;241;43m=\u001b[39;49m\u001b[43mrun\u001b[49m\u001b[43m,\u001b[49m\n\u001b[1;32m     99\u001b[0m \u001b[43m            \u001b[49m\u001b[43mkey\u001b[49m\u001b[38;5;241;43m=\u001b[39;49m\u001b[43mkey\u001b[49m\u001b[43m,\u001b[49m\n\u001b[1;32m    100\u001b[0m \u001b[43m            \u001b[49m\u001b[43mstep\u001b[49m\u001b[38;5;241;43m=\u001b[39;49m\u001b[43mnamespace\u001b[49m\u001b[43m,\u001b[49m\n\u001b[1;32m    101\u001b[0m \u001b[43m            \u001b[49m\u001b[43mignore_copy_err\u001b[49m\u001b[38;5;241;43m=\u001b[39;49m\u001b[43mignore_copy_err\u001b[49m\u001b[43m,\u001b[49m\n\u001b[1;32m    102\u001b[0m \u001b[43m        \u001b[49m\u001b[43m)\u001b[49m\n\u001b[1;32m    103\u001b[0m \u001b[38;5;28;01melse\u001b[39;00m:\n\u001b[1;32m    104\u001b[0m     \u001b[38;5;28;01mfor\u001b[39;00m i, item \u001b[38;5;129;01min\u001b[39;00m \u001b[38;5;28menumerate\u001b[39m(items):\n",
      "File \u001b[0;32m~/anaconda3/envs/torch_1.12.1/lib/python3.9/site-packages/wandb/sdk/data_types/image.py:349\u001b[0m, in \u001b[0;36mImage.bind_to_run\u001b[0;34m(self, run, key, step, id_, ignore_copy_err)\u001b[0m\n\u001b[1;32m    328\u001b[0m \u001b[38;5;28;01mdef\u001b[39;00m \u001b[38;5;21mbind_to_run\u001b[39m(\n\u001b[1;32m    329\u001b[0m     \u001b[38;5;28mself\u001b[39m,\n\u001b[1;32m    330\u001b[0m     run: \u001b[38;5;124m\"\u001b[39m\u001b[38;5;124mLocalRun\u001b[39m\u001b[38;5;124m\"\u001b[39m,\n\u001b[0;32m   (...)\u001b[0m\n\u001b[1;32m    343\u001b[0m     \u001b[38;5;66;03m# commit to getting all that fixed up before moving this to  the top\u001b[39;00m\n\u001b[1;32m    344\u001b[0m     \u001b[38;5;66;03m# level Media class.\u001b[39;00m\n\u001b[1;32m    345\u001b[0m     \u001b[38;5;28;01mif\u001b[39;00m (\n\u001b[1;32m    346\u001b[0m         \u001b[38;5;129;01mnot\u001b[39;00m _server_accepts_artifact_path()\n\u001b[1;32m    347\u001b[0m         \u001b[38;5;129;01mor\u001b[39;00m \u001b[38;5;28mself\u001b[39m\u001b[38;5;241m.\u001b[39m_get_artifact_entry_ref_url() \u001b[38;5;129;01mis\u001b[39;00m \u001b[38;5;28;01mNone\u001b[39;00m\n\u001b[1;32m    348\u001b[0m     ):\n\u001b[0;32m--> 349\u001b[0m         \u001b[38;5;28;43msuper\u001b[39;49m\u001b[43m(\u001b[49m\u001b[43m)\u001b[49m\u001b[38;5;241;43m.\u001b[39;49m\u001b[43mbind_to_run\u001b[49m\u001b[43m(\u001b[49m\u001b[43mrun\u001b[49m\u001b[43m,\u001b[49m\u001b[43m \u001b[49m\u001b[43mkey\u001b[49m\u001b[43m,\u001b[49m\u001b[43m \u001b[49m\u001b[43mstep\u001b[49m\u001b[43m,\u001b[49m\u001b[43m \u001b[49m\u001b[43mid_\u001b[49m\u001b[43m,\u001b[49m\u001b[43m \u001b[49m\u001b[43mignore_copy_err\u001b[49m\u001b[38;5;241;43m=\u001b[39;49m\u001b[43mignore_copy_err\u001b[49m\u001b[43m)\u001b[49m\n\u001b[1;32m    350\u001b[0m     \u001b[38;5;28;01mif\u001b[39;00m \u001b[38;5;28mself\u001b[39m\u001b[38;5;241m.\u001b[39m_boxes \u001b[38;5;129;01mis\u001b[39;00m \u001b[38;5;129;01mnot\u001b[39;00m \u001b[38;5;28;01mNone\u001b[39;00m:\n\u001b[1;32m    351\u001b[0m         \u001b[38;5;28;01mfor\u001b[39;00m i, k \u001b[38;5;129;01min\u001b[39;00m \u001b[38;5;28menumerate\u001b[39m(\u001b[38;5;28mself\u001b[39m\u001b[38;5;241m.\u001b[39m_boxes):\n",
      "File \u001b[0;32m~/anaconda3/envs/torch_1.12.1/lib/python3.9/site-packages/wandb/sdk/data_types/base_types/media.py:130\u001b[0m, in \u001b[0;36mMedia.bind_to_run\u001b[0;34m(self, run, key, step, id_, ignore_copy_err)\u001b[0m\n\u001b[1;32m    128\u001b[0m media_path \u001b[38;5;241m=\u001b[39m os\u001b[38;5;241m.\u001b[39mpath\u001b[38;5;241m.\u001b[39mjoin(\u001b[38;5;28mself\u001b[39m\u001b[38;5;241m.\u001b[39mget_media_subdir(), file_path)\n\u001b[1;32m    129\u001b[0m new_path \u001b[38;5;241m=\u001b[39m os\u001b[38;5;241m.\u001b[39mpath\u001b[38;5;241m.\u001b[39mjoin(\u001b[38;5;28mself\u001b[39m\u001b[38;5;241m.\u001b[39m_run\u001b[38;5;241m.\u001b[39mdir, media_path)\n\u001b[0;32m--> 130\u001b[0m \u001b[43mutil\u001b[49m\u001b[38;5;241;43m.\u001b[39;49m\u001b[43mmkdir_exists_ok\u001b[49m\u001b[43m(\u001b[49m\u001b[43mos\u001b[49m\u001b[38;5;241;43m.\u001b[39;49m\u001b[43mpath\u001b[49m\u001b[38;5;241;43m.\u001b[39;49m\u001b[43mdirname\u001b[49m\u001b[43m(\u001b[49m\u001b[43mnew_path\u001b[49m\u001b[43m)\u001b[49m\u001b[43m)\u001b[49m\n\u001b[1;32m    132\u001b[0m \u001b[38;5;28;01mif\u001b[39;00m \u001b[38;5;28mself\u001b[39m\u001b[38;5;241m.\u001b[39m_is_tmp:\n\u001b[1;32m    133\u001b[0m     shutil\u001b[38;5;241m.\u001b[39mmove(\u001b[38;5;28mself\u001b[39m\u001b[38;5;241m.\u001b[39m_path, new_path)\n",
      "File \u001b[0;32m~/anaconda3/envs/torch_1.12.1/lib/python3.9/site-packages/wandb/util.py:921\u001b[0m, in \u001b[0;36mmkdir_exists_ok\u001b[0;34m(path)\u001b[0m\n\u001b[1;32m    919\u001b[0m \u001b[38;5;28;01mdef\u001b[39;00m \u001b[38;5;21mmkdir_exists_ok\u001b[39m(path: \u001b[38;5;28mstr\u001b[39m) \u001b[38;5;241m-\u001b[39m\u001b[38;5;241m>\u001b[39m \u001b[38;5;28mbool\u001b[39m:\n\u001b[1;32m    920\u001b[0m     \u001b[38;5;28;01mtry\u001b[39;00m:\n\u001b[0;32m--> 921\u001b[0m         \u001b[43mos\u001b[49m\u001b[38;5;241;43m.\u001b[39;49m\u001b[43mmakedirs\u001b[49m\u001b[43m(\u001b[49m\u001b[43mpath\u001b[49m\u001b[43m)\u001b[49m\n\u001b[1;32m    922\u001b[0m         \u001b[38;5;28;01mreturn\u001b[39;00m \u001b[38;5;28;01mTrue\u001b[39;00m\n\u001b[1;32m    923\u001b[0m     \u001b[38;5;28;01mexcept\u001b[39;00m \u001b[38;5;167;01mOSError\u001b[39;00m \u001b[38;5;28;01mas\u001b[39;00m exc:\n",
      "File \u001b[0;32m~/anaconda3/envs/torch_1.12.1/lib/python3.9/os.py:213\u001b[0m, in \u001b[0;36mmakedirs\u001b[0;34m(name, mode, exist_ok)\u001b[0m\n\u001b[1;32m    211\u001b[0m \u001b[38;5;28;01mif\u001b[39;00m \u001b[38;5;129;01mnot\u001b[39;00m tail:\n\u001b[1;32m    212\u001b[0m     head, tail \u001b[38;5;241m=\u001b[39m path\u001b[38;5;241m.\u001b[39msplit(head)\n\u001b[0;32m--> 213\u001b[0m \u001b[38;5;28;01mif\u001b[39;00m head \u001b[38;5;129;01mand\u001b[39;00m tail \u001b[38;5;129;01mand\u001b[39;00m \u001b[38;5;129;01mnot\u001b[39;00m \u001b[43mpath\u001b[49m\u001b[38;5;241;43m.\u001b[39;49m\u001b[43mexists\u001b[49m\u001b[43m(\u001b[49m\u001b[43mhead\u001b[49m\u001b[43m)\u001b[49m:\n\u001b[1;32m    214\u001b[0m     \u001b[38;5;28;01mtry\u001b[39;00m:\n\u001b[1;32m    215\u001b[0m         makedirs(head, exist_ok\u001b[38;5;241m=\u001b[39mexist_ok)\n",
      "File \u001b[0;32m~/anaconda3/envs/torch_1.12.1/lib/python3.9/genericpath.py:19\u001b[0m, in \u001b[0;36mexists\u001b[0;34m(path)\u001b[0m\n\u001b[1;32m     17\u001b[0m \u001b[38;5;124;03m\"\"\"Test whether a path exists.  Returns False for broken symbolic links\"\"\"\u001b[39;00m\n\u001b[1;32m     18\u001b[0m \u001b[38;5;28;01mtry\u001b[39;00m:\n\u001b[0;32m---> 19\u001b[0m     \u001b[43mos\u001b[49m\u001b[38;5;241;43m.\u001b[39;49m\u001b[43mstat\u001b[49m\u001b[43m(\u001b[49m\u001b[43mpath\u001b[49m\u001b[43m)\u001b[49m\n\u001b[1;32m     20\u001b[0m \u001b[38;5;28;01mexcept\u001b[39;00m (\u001b[38;5;167;01mOSError\u001b[39;00m, \u001b[38;5;167;01mValueError\u001b[39;00m):\n\u001b[1;32m     21\u001b[0m     \u001b[38;5;28;01mreturn\u001b[39;00m \u001b[38;5;28;01mFalse\u001b[39;00m\n",
      "\u001b[0;31mKeyboardInterrupt\u001b[0m: "
     ]
    }
   ],
   "source": [
    "# 학습 시작\n",
    "########## Code here ###########\n",
    "wandb.init(\n",
    "    # set the wandb project where this run will be logged\n",
    "    project=\"my-awesome-project\",\n",
    "    # track hyperparameters and run metadata\n",
    "    config={\n",
    "    \"learning_rate\": 0.02,\n",
    "    \"architecture\": \"CNN\",\n",
    "    \"dataset\": \"CIFAR-10\",\n",
    "    \"epochs\": 10,\n",
    "    }\n",
    ")\n",
    "\n",
    "################################\n",
    "\n",
    "for e in trange(EPOCH):\n",
    "    model.train()\n",
    "    for data, target in trainloader:\n",
    "        optimizer.zero_grad()\n",
    "        pred = model(data.cuda())\n",
    "        loss = F.cross_entropy(pred, target.cuda())\n",
    "        loss.backward()\n",
    "        optimizer.step()\n",
    "    model.eval()\n",
    "    for data, target in testloader:\n",
    "        pred = model(data.cuda())\n",
    "        loss = F.cross_entropy(pred, target.cuda())\n",
    "        ########## Code here ###########\n",
    "        pred_labels = torch.argmax(pred, dim=1).detach().cpu().numpy()\n",
    "        real_labels = target.numpy()\n",
    "        images = [ToPILImage()(image) for image in data]\n",
    "        # wandb.Image() 함수의 인자로 caption을 추가해서 예측 레이블과 실제 레이블을 표시해주기\n",
    "        # Hint. for image, pred, real in zip(images, pred_labels, real_labels)\n",
    "        # List comprehension으로 wandb.Image 객체들을 리스트 형태로 딕셔너리 안에 넣어주기\n",
    "        wandb.log({\n",
    "            \"test predictions\": [\n",
    "                wandb.Image(\n",
    "                    image, caption=f'Real: {real} Pred: {pred}'\n",
    "                ) for image, pred, real in zip(images, pred_labels, real_labels)]\n",
    "        })\n",
    "        ################################\n",
    "wandb.finish()"
   ]
  },
  {
   "cell_type": "markdown",
   "id": "cf2a5423-5240-40c1-9208-8421f7b5bc3f",
   "metadata": {},
   "source": [
    "좀 더 고급지게 사용하면..\n",
    "\n",
    "<img src=\"https://1039519455-files.gitbook.io/~/files/v0/b/gitbook-legacy-files/o/assets%2F-Lqya5RvLedGEWPhtkjU%2F-M61xdWuQbgg6aVeX07a%2F-M61yg5EmBq-8JWuy3bG%2Fsemantic%20segmentation.gif?alt=media&token=c1229099-b069-4cd7-ab03-331915eb0aa8\" width=\"1000\" />\n",
    "\n",
    "이런 것도 가능"
   ]
  },
  {
   "cell_type": "markdown",
   "id": "7366656d-1f4f-45ac-b889-9e7dbb66daee",
   "metadata": {},
   "source": [
    "## Table을 이용한 데이터 시각화\n",
    "***\n",
    "```python\n",
    "table = wandb.Table(columns=['ID', 'Image'])\n",
    "\n",
    "for id, img, label in zip(ids, images, labels):\n",
    "    mask_img = wandb.Image(img, masks = {\n",
    "        \"prediction\" : {\n",
    "            \"mask_data\" : label,\n",
    "            \"class_labels\" : class_labels\n",
    "        },\n",
    "        ...\n",
    "    })\n",
    "    \n",
    "    table.add_data(id, img)\n",
    "\n",
    "wandb.log({\"Table\" : table})\n",
    "```"
   ]
  },
  {
   "cell_type": "markdown",
   "id": "81f7369c-d50d-408e-bfcf-2afac39b98ed",
   "metadata": {},
   "source": [
    "## 모델 저장, 버전관리 + Netron viewer를 이용한 시각화\n",
    "***"
   ]
  },
  {
   "cell_type": "markdown",
   "id": "59357f0b-f33b-42a7-847c-f5a5bde7f800",
   "metadata": {},
   "source": [
    "<img src=\"https://drive.google.com/uc?export=view&id=19JqSReaU3wMqDSEo7s0d-MkulbCZWafI\"/>"
   ]
  },
  {
   "cell_type": "markdown",
   "id": "8042636d-f842-4638-9b64-bec57e574829",
   "metadata": {},
   "source": [
    "### Steps\n",
    "1. Artifact에 모델파일 업로드\n",
    "2. model registry에 모델 등록\n",
    "3. Artifact 탭에서 2에서 등록한 모델 레지스트리에 모델 넣어주기"
   ]
  },
  {
   "cell_type": "code",
   "execution_count": null,
   "id": "50188680-2065-44d1-a56f-a94cacd16637",
   "metadata": {},
   "outputs": [],
   "source": [
    "# 구글 드라이브 마운트\n",
    "from google.colab import drive\n",
    "drive.mount('/content/drive')\n",
    "!cp -r /content/drive/MyDrive/data /content\n",
    "# 바로가기 추가시 경로를 변경하신분은 MyDrive/data부분을 변경하신 경로로 설정하세요"
   ]
  },
  {
   "cell_type": "code",
   "execution_count": null,
   "id": "bc97c132-0b3d-4f09-b6e0-711e3ac18084",
   "metadata": {},
   "outputs": [],
   "source": [
    "#!pip install pytorchyolo\n",
    "import torch\n",
    "from pytorchyolo import models\n",
    "# Load the YOLO model\n",
    "\n",
    "model = models.load_model(\n",
    "  \"/home/jahn/workspace/tmp/PyTorch-YOLOv3/config/yolov3-tiny.cfg\", \n",
    "  \"/home/jahn/workspace/tmp/PyTorch-YOLOv3/weights/yolov3-tiny.weights\")\n",
    "\n",
    "import wandb\n",
    "import random\n",
    "run = wandb.init(project=\"test\")\n",
    "artifact = wandb.Artifact('Yolo-v3', type='model')\n",
    "# 학습 하며 여러가지 로깅..\n",
    "# wandb.log({\"acc\": 1, \"loss\": 1})\n",
    "torch.onnx.export(model, torch.rand((1,3,224,224)).cuda(), 'yolo.onnx')\n",
    "artifact.add_file(local_path='yolo.onnx')\n",
    "run.log_artifact(artifact)"
   ]
  },
  {
   "cell_type": "markdown",
   "id": "ee5bb4d5-7d1e-4e01-853b-415ee83b4994",
   "metadata": {},
   "source": [
    "*더 알고싶으신 분은 [공식 Artifact 가이드](https://colab.research.google.com/github/wandb/examples/blob/master/colabs/wandb-artifacts/Pipeline_Versioning_with_W%26B_Artifacts.ipynb#scrollTo=6gLwSc1SOajB) 참고*"
   ]
  }
 ],
 "metadata": {
  "kernelspec": {
   "display_name": "torch_1.12.1",
   "language": "python",
   "name": "torch_1.12.1"
  },
  "language_info": {
   "codemirror_mode": {
    "name": "ipython",
    "version": 3
   },
   "file_extension": ".py",
   "mimetype": "text/x-python",
   "name": "python",
   "nbconvert_exporter": "python",
   "pygments_lexer": "ipython3",
   "version": "3.9.13"
  }
 },
 "nbformat": 4,
 "nbformat_minor": 5
}
