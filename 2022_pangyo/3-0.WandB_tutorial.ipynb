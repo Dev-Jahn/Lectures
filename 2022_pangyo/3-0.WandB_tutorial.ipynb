{
 "cells": [
  {
   "cell_type": "markdown",
   "id": "60351786-49a4-48e8-88cc-3a3ac5c3caa3",
   "metadata": {},
   "source": [
    "# W&B (Weights and Biases) Tutorial [(Link)](https://wandb.ai/site)\n",
    "* Author: [안재한](https://github.com/Dev-Jahn)"
   ]
  },
  {
   "cell_type": "markdown",
   "id": "104d7b2b-bc49-44dc-a50e-741569291ce1",
   "metadata": {},
   "source": [
    "[<img src=\"https://drive.google.com/uc?export=view&id=12X8w2gmCa2N5i9cJ5mIJaNVSJpvcFJXH\"/>](https://www.youtube.com/watch?v=krWjJcW80_A)\n",
    "## 계정 생성하기\n",
    "***\n",
    "* Github\n",
    "* Google\n",
    "* MS\n",
    "* 자체 계정\n",
    "\n",
    "## 기능들\n",
    "***\n",
    "<img src=\"https://drive.google.com/uc?export=view&id=1Vwp_INLmNsi0Blxv7oBjIeRlC0E78EIv\"/>\n",
    "* 다양한 형태의 학습 트래킹 (성능지표, 이미지, 자연어, 오디오, 비디오, 3D 모델...etc)\n",
    "* 리포트 생성\n",
    "* 데이터셋, 모델 버전 관리\n",
    "* 테이블을 이용한 데이터 시각화\n",
    "* 하이퍼파라미터 튜닝\n",
    "* 모델 저장 및 배포\n",
    "\n",
    "## Documentation\n",
    "***\n",
    "근래들어 활발하게 기능이 개발되는 중이라 문서화가 잘 되어 있는 편\n",
    "* [공식 Documentation](https://docs.wandb.ai/?_gl=1*1ffsiro*_ga*MTMwMjc3MzA0LjE2NzIzMzQ3NDc.*_ga_JH1SJHJQXJ*MTY3MjMzNDc0Ny4xLjEuMTY3MjMzNDg3Mi40NS4wLjA.)\n",
    "    * [실험 추적 기능(로깅)](https://docs.wandb.ai/guides/track)\n",
    "    * [하이퍼파라미터 튜닝](https://docs.wandb.ai/guides/sweeps)\n",
    "    * [데이터, 모델 버전 관리](https://docs.wandb.ai/guides/data-and-model-versioning)\n",
    "    * [모델 라이프사이클 관리](https://docs.wandb.ai/guides/models)\n",
    "    * [데이터 시각화](https://docs.wandb.ai/guides/data-vis)\n",
    "    * [리포트 생성하기](https://docs.wandb.ai/guides/reports)\n",
    "    * [Pytorch, Keras, Hugging Face 등과 연동하기](https://docs.wandb.ai/guides/integrations)\n",
    "* [파이썬 레퍼런스(모듈, 함수 명세)](https://docs.wandb.ai/ref/python)\n",
    "    \n",
    "## Forum\n",
    "***\n",
    "모르는 게 있으면 [Forum](https://community.wandb.ai/?_gl=1*kvghcf*_ga*MTMwMjc3MzA0LjE2NzIzMzQ3NDc.*_ga_JH1SJHJQXJ*MTY3MjMzNDc0Ny4xLjEuMTY3MjMzNDk0Ny41OC4wLjA.)에 질문해도 됩니다"
   ]
  },
  {
   "cell_type": "markdown",
   "id": "41aba521-d825-4e87-8a08-aa2d2ed616b0",
   "metadata": {},
   "source": [
    "## 기본 구조\n",
    "***\n",
    "<img src=\"https://drive.google.com/uc?export=view&id=1eSuLm2IGUub2QyMwapabyejDfNFjvSz7\"/>\n",
    "\n",
    "프로젝트를 생성하고 로깅을 시작하면, 각 프로젝트 내에 run이라는 형태로 일련의 기록들이 저장됨"
   ]
  },
  {
   "cell_type": "markdown",
   "id": "4f20a444-cbc3-412c-b728-c6c8a55671f4",
   "metadata": {},
   "source": [
    "## 시작하기\n",
    "***\n",
    "[[링크]](https://wandb.ai/quickstart) 에서 `Your API key` 클릭하여 복사해두기"
   ]
  },
  {
   "cell_type": "code",
   "execution_count": 3,
   "id": "c3559b37-8535-4e30-8863-a8f578819aec",
   "metadata": {
    "collapsed": true,
    "jupyter": {
     "outputs_hidden": true
    },
    "tags": []
   },
   "outputs": [
    {
     "name": "stdout",
     "output_type": "stream",
     "text": [
      "Looking in indexes: https://pypi.org/simple, https://pypi.ngc.nvidia.com\n",
      "Requirement already satisfied: wandb in /home/jahn/anaconda3/lib/python3.9/site-packages (0.12.10)\n",
      "Requirement already satisfied: protobuf>=3.12.0 in /home/jahn/anaconda3/lib/python3.9/site-packages (from wandb) (3.19.1)\n",
      "Requirement already satisfied: Click!=8.0.0,>=7.0 in /home/jahn/anaconda3/lib/python3.9/site-packages (from wandb) (8.0.3)\n",
      "Requirement already satisfied: shortuuid>=0.5.0 in /home/jahn/anaconda3/lib/python3.9/site-packages (from wandb) (1.0.8)\n",
      "Requirement already satisfied: requests<3,>=2.0.0 in /home/jahn/anaconda3/lib/python3.9/site-packages (from wandb) (2.26.0)\n",
      "Requirement already satisfied: promise<3,>=2.0 in /home/jahn/anaconda3/lib/python3.9/site-packages (from wandb) (2.3)\n",
      "Requirement already satisfied: docker-pycreds>=0.4.0 in /home/jahn/anaconda3/lib/python3.9/site-packages (from wandb) (0.4.0)\n",
      "Requirement already satisfied: GitPython>=1.0.0 in /home/jahn/anaconda3/lib/python3.9/site-packages (from wandb) (3.1.27)\n",
      "Requirement already satisfied: sentry-sdk>=1.0.0 in /home/jahn/anaconda3/lib/python3.9/site-packages (from wandb) (1.5.6)\n",
      "Requirement already satisfied: PyYAML in /home/jahn/anaconda3/lib/python3.9/site-packages (from wandb) (6.0)\n",
      "Requirement already satisfied: python-dateutil>=2.6.1 in /home/jahn/anaconda3/lib/python3.9/site-packages (from wandb) (2.8.2)\n",
      "Requirement already satisfied: six>=1.13.0 in /home/jahn/anaconda3/lib/python3.9/site-packages (from wandb) (1.16.0)\n",
      "Requirement already satisfied: psutil>=5.0.0 in /home/jahn/anaconda3/lib/python3.9/site-packages (from wandb) (5.8.0)\n",
      "Requirement already satisfied: pathtools in /home/jahn/anaconda3/lib/python3.9/site-packages (from wandb) (0.1.2)\n",
      "Requirement already satisfied: yaspin>=1.0.0 in /home/jahn/anaconda3/lib/python3.9/site-packages (from wandb) (2.1.0)\n",
      "Requirement already satisfied: gitdb<5,>=4.0.1 in /home/jahn/anaconda3/lib/python3.9/site-packages (from GitPython>=1.0.0->wandb) (4.0.9)\n",
      "Requirement already satisfied: charset-normalizer~=2.0.0 in /home/jahn/anaconda3/lib/python3.9/site-packages (from requests<3,>=2.0.0->wandb) (2.0.4)\n",
      "Requirement already satisfied: certifi>=2017.4.17 in /home/jahn/anaconda3/lib/python3.9/site-packages (from requests<3,>=2.0.0->wandb) (2021.10.8)\n",
      "Requirement already satisfied: urllib3<1.27,>=1.21.1 in /home/jahn/anaconda3/lib/python3.9/site-packages (from requests<3,>=2.0.0->wandb) (1.26.7)\n",
      "Requirement already satisfied: idna<4,>=2.5 in /home/jahn/anaconda3/lib/python3.9/site-packages (from requests<3,>=2.0.0->wandb) (3.2)\n",
      "Requirement already satisfied: termcolor<2.0.0,>=1.1.0 in /home/jahn/anaconda3/lib/python3.9/site-packages (from yaspin>=1.0.0->wandb) (1.1.0)\n",
      "Requirement already satisfied: smmap<6,>=3.0.1 in /home/jahn/anaconda3/lib/python3.9/site-packages (from gitdb<5,>=4.0.1->GitPython>=1.0.0->wandb) (5.0.0)\n",
      "^C\n",
      "\n",
      "Aborted!\n"
     ]
    }
   ],
   "source": [
    "!pip install wandb\n",
    "!wandb login\n",
    "# 이후 방금 복사한 key입력"
   ]
  },
  {
   "cell_type": "markdown",
   "id": "0ad60936-52d0-42a2-873f-59c92c282c08",
   "metadata": {},
   "source": [
    "`로그인에 대한 정보는 컴퓨터에 파일로 기록되므로 한번 로그인해두면 같은 기기에서는 다시 할 필요 없습니다`"
   ]
  },
  {
   "cell_type": "code",
   "execution_count": null,
   "id": "d73a42ad-8b44-4bc5-9903-28c4028d6260",
   "metadata": {},
   "outputs": [],
   "source": [
    "import wandb\n",
    "\n",
    "# start a new wandb run to track this script\n",
    "wandb.init(\n",
    "    # set the wandb project where this run will be logged\n",
    "    project=\"my-awesome-project\",\n",
    "    # track hyperparameters and run metadata\n",
    "    config={\n",
    "    \"learning_rate\": 0.02,\n",
    "    \"architecture\": \"CNN\",\n",
    "    \"dataset\": \"CIFAR-10\",\n",
    "    \"epochs\": 10,\n",
    "    }\n",
    ")\n",
    "\n",
    "# simulate training\n",
    "epochs = 10\n",
    "offset = random.random() / 5\n",
    "for epoch in range(2, epochs):\n",
    "    acc = epoch*10\n",
    "    loss = 1/epoch\n",
    "    # log metrics to wandb\n",
    "    wandb.log({\"acc\": acc, \"loss\": loss})\n",
    "    \n",
    "# [optional] finish the wandb run, necessary in notebooks\n",
    "wandb.finish()"
   ]
  },
  {
   "cell_type": "markdown",
   "id": "27bcb125-40bf-4219-94eb-68586cc1dfd6",
   "metadata": {},
   "source": [
    "## 학습, 평가 메트릭 기록하기\n",
    "***"
   ]
  },
  {
   "cell_type": "code",
   "execution_count": 10,
   "id": "75c211d0-4eed-4bfd-9971-2285aac8443d",
   "metadata": {},
   "outputs": [],
   "source": [
    "import torch\n",
    "from torch.nn import functional as F\n",
    "from torch import optim\n",
    "from torch.utils.data import DataLoader\n",
    "from torchvision.datasets import CIFAR10\n",
    "from torchvision.transforms import ToTensor\n",
    "from torchvision.models import resnet18\n",
    "from tqdm.auto import tqdm, trange\n",
    "\n",
    "EPOCH = 100\n",
    "device = torch.device('cuda') if torch.cuda.is_available() else 'cpu'\n",
    "\n",
    "class AverageMeter(object):\n",
    "    \"\"\"Computes and stores the average and current value\"\"\"\n",
    "    def __init__(self):\n",
    "        self.reset()\n",
    "\n",
    "    def reset(self):\n",
    "        self.val = 0\n",
    "        self.avg = 0\n",
    "        self.sum = 0\n",
    "        self.count = 0\n",
    "\n",
    "    def update(self, val, n=1):\n",
    "        self.val = val\n",
    "        self.sum += val * n\n",
    "        self.count += n\n",
    "        self.avg = self.sum / self.count\n",
    "\n",
    "# 학습 준비\n",
    "trainset = CIFAR10('~/data', train=True, transform=ToTensor(), download=True)\n",
    "testset = CIFAR10('~/data', train=False, transform=ToTensor(), download=True)\n",
    "# trainset = CIFAR10('/content', train=True, transform=ToTensor(), download=True)\n",
    "# testset = CIFAR10('/content', train=False, transform=ToTensor(), download=True)\n",
    "trainloader = DataLoader(trainset, batch_size=32, shuffle=True, num_workers=2)\n",
    "testloader = DataLoader(test, batch_size=32, shuffle=False, num_workers=2)\n",
    "model = resnet18(num_classes=10).to(device)\n",
    "optimizer = optim.Adam(model.parameters(), lr=1e-3)\n",
    "\n",
    "avg_train_acc = AverageMeter()\n",
    "avg_train_loss = AverageMeter()\n",
    "avg_test_acc = AverageMeter()\n",
    "avg_test_acc = AverageMeter()\n",
    "\n",
    "# 학습 시작\n",
    "########## Code here ###########\n",
    "wandb.init(???)\n",
    "################################\n",
    "\n",
    "for e in trange(EPOCH):\n",
    "    model.train()\n",
    "    for data, target in trainloader:\n",
    "        optimizer.zero_grad()\n",
    "        pred = model(data.cuda())\n",
    "        loss = F.cross_entropy(pred, target.cuda())\n",
    "        loss.backward()\n",
    "        optimizer.step()\n",
    "        ########## Code here ###########\n",
    "        acc = ???\n",
    "        avg_train_acc.update(???)\n",
    "        avg_train_loss.update(???)\n",
    "        ################################\n",
    "    model.eval()\n",
    "    for data, target in testloader:\n",
    "        pred = model(data.cuda())\n",
    "        loss = F.cross_entropy(pred, target.cuda())\n",
    "        ########## Code here ###########\n",
    "        acc = ???\n",
    "        avg_test_acc.update(???)\n",
    "        avg_test_loss.update(???)\n",
    "        ################################\n",
    "    ########## Code here ###########\n",
    "    wandb.log(???)\n",
    "    ################################\n",
    "wandb.finish()"
   ]
  },
  {
   "cell_type": "markdown",
   "id": "39f3331d-5e4f-4995-9380-cf5e84f74d39",
   "metadata": {},
   "source": [
    "## 학습중 이미지 업로드\n",
    "***\n",
    "Vision 관련 딥러닝 모델들을 학습할 때는 정확도, loss값등 단순 수치보다 시각적으로 진척을 확인해야 할 때가 많음\n",
    "* 모델이 이미지에서 올바른 특징들을 잡아내고 있는지\n",
    "* 객체탐지를 잘하는지\n",
    "* segmentation이 정상적으로 되는지\n",
    "\n",
    "등 을 실시간으로 확인할 수 있어야 학습 잘못 돌려놓고 며칠뒤에 깨닫는 일이 없음..."
   ]
  },
  {
   "cell_type": "markdown",
   "id": "c62814e1-2d86-4bc4-a690-3c4663d9a25b",
   "metadata": {},
   "source": [
    "* 라이브러리 제공 이미지 객체 사용(`torchvision` `make_grid` 등 사용시)\n",
    "```python\n",
    "images = wandb.Image(image_array, caption=\"Top: Output, Bottom: Input\")\n",
    "wandb.log({\"examples\": images}\n",
    "```\n",
    "\n",
    "\n",
    "* numpy array 사용\n",
    "```python\n",
    "images = [PIL.Image.fromarray(image) for image in image_array]\n",
    "wandb.log({\"examples\": [wandb.Image(image) for image in images]}\n",
    "```\n",
    "\n",
    "\n",
    "* 파일 직접 업로드\n",
    "```python\n",
    "im = PIL.fromarray(...)\n",
    "rgb_im = im.convert('RGB')\n",
    "rgb_im.save('myimage.jpg')\n",
    "wandb.log({\"example\": wandb.Image(\"myimage.jpg\")})\n",
    "```\n",
    "\n",
    "*Note: 스텝 당 50장 이상의 이미지를 로깅하면 코드의 성능이 심각하게 저하될 수 있습니다.*"
   ]
  },
  {
   "cell_type": "code",
   "execution_count": null,
   "id": "795fcfe0-ed41-47bf-9ac2-8f3e9bb36e1e",
   "metadata": {},
   "outputs": [],
   "source": [
    "# 학습 시작\n",
    "########## Code here ###########\n",
    "wandb.init(???)\n",
    "################################\n",
    "\n",
    "for e in trange(EPOCH):\n",
    "    model.train()\n",
    "    for data, target in trainloader:\n",
    "        optimizer.zero_grad()\n",
    "        pred = model(data.cuda())\n",
    "        loss = F.cross_entropy(pred, target.cuda())\n",
    "        loss.backward()\n",
    "        optimizer.step()\n",
    "    model.eval()\n",
    "    for data, target in testloader:\n",
    "        pred = model(data.cuda())\n",
    "        loss = F.cross_entropy(pred, target.cuda())\n",
    "        ########## Code here ###########\n",
    "        pred_labels = ???\n",
    "        real_labels = ???\n",
    "        images = ???\n",
    "        # wandb.Image() 함수의 인자로 caption을 추가해서 예측 레이블과 실제 레이블을 표시해주기\n",
    "        # Hint. for image, pred, real in zip(images, pred_labels, real_labels)\n",
    "        # List comprehension으로 wandb.Image 객체들을 리스트 형태로 딕셔너리 안에 넣어주기\n",
    "        wandb.log({\"test predictions\": ???}\n",
    "        ################################\n",
    "wandb.finish()"
   ]
  },
  {
   "cell_type": "markdown",
   "id": "cf2a5423-5240-40c1-9208-8421f7b5bc3f",
   "metadata": {},
   "source": [
    "좀 더 고급지게 사용하면..\n",
    "\n",
    "<img src=\"https://1039519455-files.gitbook.io/~/files/v0/b/gitbook-legacy-files/o/assets%2F-Lqya5RvLedGEWPhtkjU%2F-M61xdWuQbgg6aVeX07a%2F-M61yg5EmBq-8JWuy3bG%2Fsemantic%20segmentation.gif?alt=media&token=c1229099-b069-4cd7-ab03-331915eb0aa8\" width=\"1000\" />\n",
    "\n",
    "이런 것도 가능"
   ]
  },
  {
   "cell_type": "markdown",
   "id": "7366656d-1f4f-45ac-b889-9e7dbb66daee",
   "metadata": {},
   "source": [
    "## Table을 이용한 데이터 시각화\n",
    "***\n",
    "```python\n",
    "table = wandb.Table(columns=['ID', 'Image'])\n",
    "\n",
    "for id, img, label in zip(ids, images, labels):\n",
    "    mask_img = wandb.Image(img, masks = {\n",
    "        \"prediction\" : {\n",
    "            \"mask_data\" : label,\n",
    "            \"class_labels\" : class_labels\n",
    "        },\n",
    "        ...\n",
    "    })\n",
    "    \n",
    "    table.add_data(id, img)\n",
    "\n",
    "wandb.log({\"Table\" : table})\n",
    "```"
   ]
  },
  {
   "cell_type": "markdown",
   "id": "81f7369c-d50d-408e-bfcf-2afac39b98ed",
   "metadata": {},
   "source": [
    "## 모델 저장, 버전관리 + Netron viewer를 이용한 시각화\n",
    "***"
   ]
  },
  {
   "cell_type": "markdown",
   "id": "59357f0b-f33b-42a7-847c-f5a5bde7f800",
   "metadata": {},
   "source": [
    "<img src=\"https://drive.google.com/uc?export=view&id=19JqSReaU3wMqDSEo7s0d-MkulbCZWafI\"/>"
   ]
  },
  {
   "cell_type": "markdown",
   "id": "8042636d-f842-4638-9b64-bec57e574829",
   "metadata": {},
   "source": [
    "### Steps\n",
    "1. Artifact에 모델파일 업로드\n",
    "2. model registry에 모델 등록\n",
    "3. Artifact 탭에서 2에서 등록한 모델 레지스트리에 모델 넣어주기"
   ]
  },
  {
   "cell_type": "code",
   "execution_count": null,
   "id": "50188680-2065-44d1-a56f-a94cacd16637",
   "metadata": {},
   "outputs": [],
   "source": [
    "# 구글 드라이브 마운트\n",
    "from google.colab import drive\n",
    "drive.mount('/content/drive')\n",
    "!cp -r /content/drive/MyDrive/data /content\n",
    "# 바로가기 추가시 경로를 변경하신분은 MyDrive/data부분을 변경하신 경로로 설정하세요"
   ]
  },
  {
   "cell_type": "code",
   "execution_count": null,
   "id": "bc97c132-0b3d-4f09-b6e0-711e3ac18084",
   "metadata": {},
   "outputs": [],
   "source": [
    "#!pip install pytorchyolo\n",
    "import torch\n",
    "from pytorchyolo import models\n",
    "# Load the YOLO model\n",
    "\n",
    "model = models.load_model(\n",
    "  \"/home/jahn/workspace/tmp/PyTorch-YOLOv3/config/yolov3-tiny.cfg\", \n",
    "  \"/home/jahn/workspace/tmp/PyTorch-YOLOv3/weights/yolov3-tiny.weights\")\n",
    "\n",
    "import wandb\n",
    "import random\n",
    "run = wandb.init(project=\"test\")\n",
    "artifact = wandb.Artifact('Yolo-v3', type='model')\n",
    "# 학습 하며 여러가지 로깅..\n",
    "# wandb.log({\"acc\": 1, \"loss\": 1})\n",
    "torch.onnx.export(model, torch.rand((1,3,224,224)).cuda(), 'yolo.onnx')\n",
    "artifact.add_file(local_path='yolo.onnx')\n",
    "run.log_artifact(artifact)"
   ]
  },
  {
   "cell_type": "markdown",
   "id": "ee5bb4d5-7d1e-4e01-853b-415ee83b4994",
   "metadata": {},
   "source": [
    "*더 알고싶으신 분은 [공식 Artifact 가이드](https://colab.research.google.com/github/wandb/examples/blob/master/colabs/wandb-artifacts/Pipeline_Versioning_with_W%26B_Artifacts.ipynb#scrollTo=6gLwSc1SOajB) 참고*"
   ]
  }
 ],
 "metadata": {
  "kernelspec": {
   "display_name": "torch_1.12.1",
   "language": "python",
   "name": "torch_1.12.1"
  },
  "language_info": {
   "codemirror_mode": {
    "name": "ipython",
    "version": 3
   },
   "file_extension": ".py",
   "mimetype": "text/x-python",
   "name": "python",
   "nbconvert_exporter": "python",
   "pygments_lexer": "ipython3",
   "version": "3.9.13"
  }
 },
 "nbformat": 4,
 "nbformat_minor": 5
}
